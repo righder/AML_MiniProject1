{
 "cells": [
  {
   "cell_type": "code",
   "execution_count": 236,
   "metadata": {},
   "outputs": [],
   "source": [
    "import pandas as pd\n",
    "import numpy as np\n",
    "from sklearn.decomposition import TruncatedSVD\n",
    "from sklearn.metrics.pairwise import cosine_similarity"
   ]
  },
  {
   "cell_type": "code",
   "execution_count": 237,
   "metadata": {},
   "outputs": [
    {
     "name": "stdout",
     "output_type": "stream",
     "text": [
      "   User ID  Product ID Product Name   Brand         Category  Price    Rating  \\\n",
      "0       19           1        Dress  Adidas    Men's Fashion     40  1.043159   \n",
      "1       97           2        Shoes     H&M  Women's Fashion     82  4.026416   \n",
      "2       25           3        Dress  Adidas  Women's Fashion     44  3.337938   \n",
      "3       57           4        Shoes    Zara    Men's Fashion     23  1.049523   \n",
      "4       79           5      T-shirt  Adidas    Men's Fashion     79  4.302773   \n",
      "\n",
      "    Color Size  \n",
      "0   Black   XL  \n",
      "1   Black    L  \n",
      "2  Yellow   XL  \n",
      "3   White    S  \n",
      "4   Black    M  \n"
     ]
    }
   ],
   "source": [
    "# Load the dataset\n",
    "df = pd.read_csv('fashion_products.csv')\n",
    "\n",
    "# Display the first few rows\n",
    "print(df.head())"
   ]
  },
  {
   "cell_type": "code",
   "execution_count": 238,
   "metadata": {},
   "outputs": [],
   "source": [
    "# Rename columns\n",
    "df.rename(columns={'User ID': 'user_id', 'Product ID': 'product_id','Product Name':'product_name','Brand': 'brand','Category': 'category','Price': 'price','Rating': 'ratings'}, inplace=True)"
   ]
  },
  {
   "cell_type": "code",
   "execution_count": 239,
   "metadata": {},
   "outputs": [
    {
     "name": "stdout",
     "output_type": "stream",
     "text": [
      "product_id  1         2     3     4     5         6     7     8         9     \\\n",
      "user_id                                                                        \n",
      "1            0.0  0.000000   0.0   0.0   0.0  0.000000   0.0   0.0  0.000000   \n",
      "2            0.0  0.000000   0.0   0.0   0.0  0.000000   0.0   0.0  0.000000   \n",
      "3            0.0  0.000000   0.0   0.0   0.0  0.000000   0.0   0.0  0.000000   \n",
      "4            0.0  0.000000   0.0   0.0   0.0  0.000000   0.0   0.0  0.000000   \n",
      "5            0.0  0.000000   0.0   0.0   0.0  0.000000   0.0   0.0  0.000000   \n",
      "...          ...       ...   ...   ...   ...       ...   ...   ...       ...   \n",
      "96           0.0  0.000000   0.0   0.0   0.0  0.000000   0.0   0.0  4.466182   \n",
      "97           0.0  4.026416   0.0   0.0   0.0  0.000000   0.0   0.0  0.000000   \n",
      "98           0.0  0.000000   0.0   0.0   0.0  1.379566   0.0   0.0  0.000000   \n",
      "99           0.0  0.000000   0.0   0.0   0.0  0.000000   0.0   0.0  0.000000   \n",
      "100          0.0  0.000000   0.0   0.0   0.0  0.000000   0.0   0.0  0.000000   \n",
      "\n",
      "product_id  10    ...  991   992   993   994   995   996   997   998   999   \\\n",
      "user_id           ...                                                         \n",
      "1            0.0  ...   0.0   0.0   0.0   0.0   0.0   0.0   0.0   0.0   0.0   \n",
      "2            0.0  ...   0.0   0.0   0.0   0.0   0.0   0.0   0.0   0.0   0.0   \n",
      "3            0.0  ...   0.0   0.0   0.0   0.0   0.0   0.0   0.0   0.0   0.0   \n",
      "4            0.0  ...   0.0   0.0   0.0   0.0   0.0   0.0   0.0   0.0   0.0   \n",
      "5            0.0  ...   0.0   0.0   0.0   0.0   0.0   0.0   0.0   0.0   0.0   \n",
      "...          ...  ...   ...   ...   ...   ...   ...   ...   ...   ...   ...   \n",
      "96           0.0  ...   0.0   0.0   0.0   0.0   0.0   0.0   0.0   0.0   0.0   \n",
      "97           0.0  ...   0.0   0.0   0.0   0.0   0.0   0.0   0.0   0.0   0.0   \n",
      "98           0.0  ...   0.0   0.0   0.0   0.0   0.0   0.0   0.0   0.0   0.0   \n",
      "99           0.0  ...   0.0   0.0   0.0   0.0   0.0   0.0   0.0   0.0   0.0   \n",
      "100          0.0  ...   0.0   0.0   0.0   0.0   0.0   0.0   0.0   0.0   0.0   \n",
      "\n",
      "product_id  1000  \n",
      "user_id           \n",
      "1            0.0  \n",
      "2            0.0  \n",
      "3            0.0  \n",
      "4            0.0  \n",
      "5            0.0  \n",
      "...          ...  \n",
      "96           0.0  \n",
      "97           0.0  \n",
      "98           0.0  \n",
      "99           0.0  \n",
      "100          0.0  \n",
      "\n",
      "[100 rows x 1000 columns]\n"
     ]
    }
   ],
   "source": [
    "# Create user-product interaction matrix\n",
    "user_product_matrix = df.pivot(index='user_id', columns='product_id', values='ratings').fillna(0)\n",
    "# Display the user-product matrix\n",
    "print(user_product_matrix)"
   ]
  },
  {
   "cell_type": "code",
   "execution_count": 240,
   "metadata": {},
   "outputs": [
    {
     "name": "stdout",
     "output_type": "stream",
     "text": [
      "[[-2.87786212e-02  5.68792506e-02]\n",
      " [-3.55994991e-02 -1.83736874e-02]\n",
      " [-2.58945158e-01 -4.55677917e-01]\n",
      " [ 2.37464303e-02  7.29585288e-02]\n",
      " [ 1.08151699e-03  1.92822026e-02]\n",
      " [ 2.23684882e-01 -3.11920338e-01]\n",
      " [ 7.48422709e-01 -8.75082060e-02]\n",
      " [ 4.24406826e-02 -1.22886802e-01]\n",
      " [ 7.69700336e-02  2.71257582e-04]\n",
      " [ 2.59503895e-02 -3.95517863e-02]\n",
      " [ 1.01417807e+00 -1.71093910e+00]\n",
      " [-2.25681637e-02  5.02708788e-02]\n",
      " [ 1.11222925e-02 -6.34826816e-03]\n",
      " [-1.72639796e-04  5.81059464e-04]\n",
      " [-1.24669818e-02  2.37492722e-02]\n",
      " [ 1.19604447e-03  7.32459276e-04]\n",
      " [-4.81509630e-03  1.34106849e-03]\n",
      " [ 1.97646362e-02 -6.90190599e-02]\n",
      " [-1.16193190e-03  1.34200359e-03]\n",
      " [ 2.40977356e-02  6.33659798e-02]\n",
      " [-8.88660977e-02  6.83347020e-02]\n",
      " [-1.25363106e-01  2.69916759e-01]\n",
      " [-1.93997526e-04  3.48544621e-04]\n",
      " [-2.22558859e-04 -7.15268828e-04]\n",
      " [-9.40998403e-01 -1.41813772e+00]\n",
      " [ 8.87797336e-03  2.42927473e-02]\n",
      " [ 3.88417863e-02  1.55552560e-01]\n",
      " [ 1.01961134e-03 -1.88024842e-03]\n",
      " [-3.82940828e-05  1.26977428e-04]\n",
      " [ 4.51776836e-03 -9.61022903e-03]\n",
      " [ 2.81282065e-02  1.80836116e-02]\n",
      " [ 6.14113054e-02  5.19252038e-02]\n",
      " [ 2.19459679e-01 -6.97716609e-01]\n",
      " [ 5.57182829e-01  4.88290073e+00]\n",
      " [ 3.37721170e-01 -9.79353313e-01]\n",
      " [ 2.35780908e-03 -1.43386100e-02]\n",
      " [-6.55752119e-01  1.10618010e+00]\n",
      " [ 1.73693110e-02  3.06587031e-01]\n",
      " [ 2.43010068e-02 -4.41920402e-01]\n",
      " [ 8.12696152e-03 -9.09430764e-03]\n",
      " [-3.00276209e-02  2.14864836e-02]\n",
      " [-2.04695631e-01  1.34981446e-01]\n",
      " [-1.88678171e-04  1.73301094e-03]\n",
      " [ 8.48254673e-02  2.18957990e-01]\n",
      " [-1.30849309e-05 -1.11045079e-04]\n",
      " [-6.63552085e-01  6.40179455e-01]\n",
      " [-3.52973830e-06  2.20186920e-06]\n",
      " [-5.69816492e-01 -2.00631958e-02]\n",
      " [-4.12372607e-01  1.80905650e-01]\n",
      " [ 4.03500225e-02  3.93887946e-02]\n",
      " [ 1.50441966e-02 -1.75682005e-02]\n",
      " [ 1.32155657e-01 -8.81503008e-02]\n",
      " [-6.51637213e-04 -9.61130407e-04]\n",
      " [ 1.02232095e-01  1.23561622e-01]\n",
      " [ 3.59669380e-02  1.44424700e-01]\n",
      " [ 3.14732107e-01 -6.23843068e-01]\n",
      " [-4.47472817e-04 -5.44979605e-04]\n",
      " [ 7.36460613e-04 -7.12385541e-04]\n",
      " [ 6.79732299e-03  3.80813073e-03]\n",
      " [ 6.01422502e-01 -1.87482999e-01]\n",
      " [-7.72786358e-01 -3.80131533e-01]\n",
      " [ 8.33874149e-03 -8.96543458e-04]\n",
      " [-3.10034812e-02  2.27630692e-01]\n",
      " [-4.91581506e-02  2.09179793e-01]\n",
      " [ 1.38270342e+01 -1.68145290e+00]\n",
      " [ 6.77225738e-03 -1.13489730e-02]\n",
      " [-7.57407587e-03 -6.19077056e-03]\n",
      " [-5.87434892e-02 -7.11931980e-02]\n",
      " [ 4.40548334e-03 -2.45640409e-03]\n",
      " [-4.12990508e-03  2.60209458e-04]\n",
      " [-2.09811658e-02 -1.46767918e-02]\n",
      " [ 2.78718316e-01 -9.32440609e-02]\n",
      " [ 3.29935832e-01 -1.33797511e-01]\n",
      " [-2.29501308e-01 -1.86778076e-01]\n",
      " [ 3.15832478e-01 -3.49894689e-01]\n",
      " [-2.50951428e-01 -1.44714844e-02]\n",
      " [ 8.01939503e-03 -1.89591834e-02]\n",
      " [ 2.11502143e-02 -8.15778158e-02]\n",
      " [-1.61696342e-02 -1.45464803e-02]\n",
      " [ 5.25685714e-02 -9.15162942e-01]\n",
      " [ 2.55293660e-02 -3.76118727e-02]\n",
      " [-3.68652833e-01  2.59204046e-01]\n",
      " [ 2.37014830e-01 -2.03213992e-02]\n",
      " [ 1.88950804e-01 -5.40652046e-01]\n",
      " [ 2.15065820e-04  4.24093806e-04]\n",
      " [-2.73337864e-05 -1.62937626e-04]\n",
      " [-2.10974285e-01  1.05102739e-01]\n",
      " [ 3.10202259e-02 -6.69688944e-02]\n",
      " [ 1.86642748e+00  1.23972213e+01]\n",
      " [ 7.83558787e-03  6.33464689e-03]\n",
      " [ 9.34153525e-03 -1.04786435e-02]\n",
      " [ 4.82747327e-02  2.02268644e-01]\n",
      " [-2.34539254e-02 -7.69724811e-02]\n",
      " [-1.30297949e-02 -5.87582957e-01]\n",
      " [ 1.76526992e-02 -5.65869577e-02]\n",
      " [-6.39475237e-03 -5.58920662e-02]\n",
      " [ 2.98930151e-02 -2.78154071e-02]\n",
      " [ 4.18652822e-01 -4.23270408e-02]\n",
      " [ 5.68724908e-02 -9.99727201e-03]\n",
      " [-3.81010217e-01  2.49705444e-02]]\n"
     ]
    },
    {
     "data": {
      "text/plain": [
       "(100, 2)"
      ]
     },
     "execution_count": 240,
     "metadata": {},
     "output_type": "execute_result"
    }
   ],
   "source": [
    "# Initialize TruncatedSVD\n",
    "n_components = 2  # Choose the number of components\n",
    "svd = TruncatedSVD(n_components=n_components, random_state=42)\n",
    "\n",
    "# Fit and transform the user-product matrix\n",
    "reduced_matrix = svd.fit_transform(user_product_matrix)\n",
    "\n",
    "# Display the reduced matrix\n",
    "print(reduced_matrix)\n",
    "reduced_matrix.shape"
   ]
  },
  {
   "cell_type": "code",
   "execution_count": 241,
   "metadata": {},
   "outputs": [],
   "source": [
    "user_similarity = cosine_similarity(reduced_matrix)"
   ]
  },
  {
   "cell_type": "code",
   "execution_count": 242,
   "metadata": {},
   "outputs": [],
   "source": [
    "\n",
    "def recommend_products(user_id, user_similarity, user_product_matrix, n_recommendations=5):\n",
    "    \n",
    "    user_index = user_id - 1  # Adjust for zero-based index\n",
    "    similar_users = user_similarity[user_index]\n",
    "    weighted_ratings = np.dot(similar_users, user_product_matrix)\n",
    "    already_rated = np.nonzero(user_product_matrix.iloc[user_index])[0]\n",
    "    \n",
    "    for idx in already_rated:\n",
    "        weighted_ratings[idx] = -1  # Avoid recommending already rated products\n",
    "    \n",
    "    recommended_indices = np.argsort(weighted_ratings)[::-1][:n_recommendations]\n",
    "    recommended_product_ids = user_product_matrix.columns[recommended_indices]\n",
    "    \n",
    "    # Get product details for recommended product IDs\n",
    "    recommended_products = df[df['product_id'].isin(recommended_product_ids)]\n",
    "    return recommended_products[['product_id', 'product_name', 'brand', 'category', 'price','Color','Size']]\n",
    "    "
   ]
  },
  {
   "cell_type": "code",
   "execution_count": 243,
   "metadata": {},
   "outputs": [
    {
     "name": "stdout",
     "output_type": "stream",
     "text": [
      "Recommended Products for User : 2\n",
      "     product_id product_name   brand         category  price  Color Size\n",
      "180         181        Shoes     H&M    Kids' Fashion     80  Black    L\n",
      "501         502        Dress    Zara    Kids' Fashion     33   Blue    M\n",
      "696         697      T-shirt    Nike  Women's Fashion     99  Green    L\n",
      "799         800      T-shirt     H&M    Men's Fashion     38    Red    S\n",
      "988         989      T-shirt  Adidas    Men's Fashion     78  Black    S\n"
     ]
    }
   ],
   "source": [
    "# Get recommendations for user with ID \n",
    "user_id = int(input(\"Enter User ID: \"))\n",
    "recommended_products = recommend_products(user_id, user_similarity, user_product_matrix)\n",
    "print(\"Recommended Products for User :\", user_id)\n",
    "print(recommended_products)"
   ]
  },
  {
   "cell_type": "code",
   "execution_count": null,
   "metadata": {},
   "outputs": [],
   "source": []
  }
 ],
 "metadata": {
  "kernelspec": {
   "display_name": "Python 3",
   "language": "python",
   "name": "python3"
  },
  "language_info": {
   "codemirror_mode": {
    "name": "ipython",
    "version": 3
   },
   "file_extension": ".py",
   "mimetype": "text/x-python",
   "name": "python",
   "nbconvert_exporter": "python",
   "pygments_lexer": "ipython3",
   "version": "3.12.5"
  }
 },
 "nbformat": 4,
 "nbformat_minor": 2
}
